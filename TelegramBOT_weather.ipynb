{
  "cells": [
    {
      "cell_type": "markdown",
      "metadata": {
        "id": "view-in-github",
        "colab_type": "text"
      },
      "source": [
        "<a href=\"https://colab.research.google.com/github/Haripeddina/projects/blob/main/TelegramBOT_weather.ipynb\" target=\"_parent\"><img src=\"https://colab.research.google.com/assets/colab-badge.svg\" alt=\"Open In Colab\"/></a>"
      ]
    },
    {
      "cell_type": "code",
      "execution_count": 10,
      "metadata": {
        "colab": {
          "base_uri": "https://localhost:8080/"
        },
        "id": "7ow0TZFvNFYs",
        "outputId": "0d695330-98c1-4e5a-e68f-6ef82de53fec"
      },
      "outputs": [
        {
          "output_type": "stream",
          "name": "stdout",
          "text": [
            "Requirement already satisfied: pyTelegramBotAPI in /usr/local/lib/python3.11/dist-packages (4.27.0)\n",
            "Requirement already satisfied: requests in /usr/local/lib/python3.11/dist-packages (2.32.3)\n",
            "Requirement already satisfied: charset-normalizer<4,>=2 in /usr/local/lib/python3.11/dist-packages (from requests) (3.4.2)\n",
            "Requirement already satisfied: idna<4,>=2.5 in /usr/local/lib/python3.11/dist-packages (from requests) (3.10)\n",
            "Requirement already satisfied: urllib3<3,>=1.21.1 in /usr/local/lib/python3.11/dist-packages (from requests) (2.4.0)\n",
            "Requirement already satisfied: certifi>=2017.4.17 in /usr/local/lib/python3.11/dist-packages (from requests) (2025.7.14)\n"
          ]
        }
      ],
      "source": [
        "!pip install pyTelegramBotAPI requests"
      ]
    },
    {
      "cell_type": "code",
      "execution_count": 13,
      "metadata": {
        "id": "Bd-bK6buMvGR"
      },
      "outputs": [],
      "source": [
        "import telebot\n",
        "import requests\n",
        "import json\n",
        "\n",
        "TELEGRAM_API_KEY = '7975168207:AAFAeHm7PrunLWj9Bj23HpGUL9zspZY53Wg'\n",
        "OPENWEATHER_API_KEY = '033f19189a8ab629d8ac47ab098e86ef'\n",
        "\n",
        "bot = telebot.TeleBot(TELEGRAM_API_KEY)\n",
        "\n",
        "@bot.message_handler(commands=['start', 'help'])\n",
        "def send_welcome(message):\n",
        "    bot.reply_to(message, \"Hello! Send me a city name and I'll provide the current temperature.\")\n",
        "\n",
        "@bot.message_handler(func=lambda message: True)\n",
        "def echo_all(message):\n",
        "    print(message)\n",
        "    city_name = message.text\n",
        "    response = requests.get(f'http://api.openweathermap.org/data/2.5/weather?q={city_name}&appid={OPENWEATHER_API_KEY}')\n",
        "    data = json.loads(response.text)\n",
        "    if data['cod'] == 200:\n",
        "        temp = data['main']['temp'] - 273.15  # Convert from Kelvin to Celsius\n",
        "        bot.reply_to(message, f'The current temperature in {city_name} is {temp:.2f}°C.')\n",
        "    else:\n",
        "        bot.reply_to(message, 'Sorry, I could not find that city.')\n",
        "\n",
        "bot.polling()\n"
      ]
    }
  ],
  "metadata": {
    "colab": {
      "provenance": [],
      "include_colab_link": true
    },
    "kernelspec": {
      "display_name": "Python 3",
      "name": "python3"
    },
    "language_info": {
      "name": "python"
    }
  },
  "nbformat": 4,
  "nbformat_minor": 0
}